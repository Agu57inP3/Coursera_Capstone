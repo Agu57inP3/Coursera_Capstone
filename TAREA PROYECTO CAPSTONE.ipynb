{
 "cells": [
  {
   "cell_type": "markdown",
   "id": "c89f9b8e-cb26-48c5-8b37-fb40b95b5e6f",
   "metadata": {
    "tags": []
   },
   "source": [
    "<center>\n",
    "    <img src=\"https://cf-courses-data.s3.us.cloud-object-storage.appdomain.cloud/IBMDeveloperSkillsNetwork-PY0101EN-SkillsNetwork/IDSNlogo.png\" width=\"300\" alt=\"cognitiveclass.ai logo\"  />\n",
    "</center>\n",
    "\n",
    "# <center> TAREA PROYECTO CAPSTONE </center>\n",
    "\n",
    "\n",
    "# DESCRIPCION:\n",
    "\n",
    "\n",
    "*   ESTE NOTEBOOK FUE CREADO CON EL FIN DE PODER UTILIZARLO EN UN FUTURO PARA EL PROYECTO FINAL."
   ]
  },
  {
   "cell_type": "code",
   "execution_count": 4,
   "id": "ddca0f65-8b75-4b10-86a1-708664ca2473",
   "metadata": {},
   "outputs": [],
   "source": [
    "import pandas as pd\n",
    "import numpy as np"
   ]
  },
  {
   "cell_type": "code",
   "execution_count": 5,
   "id": "3ad9ceb5-ccae-4238-8785-0421dd1f9ba7",
   "metadata": {},
   "outputs": [
    {
     "name": "stdout",
     "output_type": "stream",
     "text": [
      "¡Hola, Proyecto Final del Curso!\n"
     ]
    }
   ],
   "source": [
    "print('¡Hola, Proyecto Final del Curso!')"
   ]
  },
  {
   "cell_type": "code",
   "execution_count": null,
   "id": "ea390e9c-4e49-4242-8b42-660c1374a5c6",
   "metadata": {},
   "outputs": [],
   "source": []
  }
 ],
 "metadata": {
  "kernelspec": {
   "display_name": "Python",
   "language": "python",
   "name": "conda-env-python-py"
  },
  "language_info": {
   "codemirror_mode": {
    "name": "ipython",
    "version": 3
   },
   "file_extension": ".py",
   "mimetype": "text/x-python",
   "name": "python",
   "nbconvert_exporter": "python",
   "pygments_lexer": "ipython3",
   "version": "3.7.12"
  },
  "toc-autonumbering": false,
  "toc-showcode": false,
  "toc-showmarkdowntxt": false,
  "toc-showtags": false
 },
 "nbformat": 4,
 "nbformat_minor": 5
}
